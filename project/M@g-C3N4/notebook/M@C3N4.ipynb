{
 "cells": [
  {
   "cell_type": "code",
   "execution_count": 1,
   "metadata": {},
   "outputs": [],
   "source": [
    "from ase.io import read, write\n",
    "from ase.visualize import view"
   ]
  },
  {
   "cell_type": "markdown",
   "metadata": {},
   "source": [
    "## 一、催化剂建模 \n",
    "1. 得到Cu@C3N4的结构"
   ]
  },
  {
   "cell_type": "code",
   "execution_count": 16,
   "metadata": {},
   "outputs": [
    {
     "data": {
      "text/plain": [
       "<Popen: returncode: None args: ['/public/home/sl/.conda/envs/deepmd/bin/pyth...>"
      ]
     },
     "execution_count": 16,
     "metadata": {},
     "output_type": "execute_result"
    }
   ],
   "source": [
    "Cu1_path ='/public/home/sl/work/DFT_work/SL/M@C3N4/notebook/github/Computational-Chemistry/project/M@g-C3N4/slab/M1/POSCAR_Cu'\n",
    "slab = read(Cu1_path)\n",
    "view(slab)\n",
    "Cu2_path ='/public/home/sl/work/DFT_work/SL/M@C3N4/notebook/github/Computational-Chemistry/project/M@g-C3N4/slab/M2/POSCAR_Cu2'\n",
    "slab2 = read(Cu2_path)\n",
    "view(slab2)\n",
    "Cu3_path ='/public/home/sl/work/DFT_work/SL/M@C3N4/notebook/github/Computational-Chemistry/project/M@g-C3N4/slab/M3/POSCAR_Cu3'\n",
    "slab3 = read(Cu3_path)\n",
    "view(slab3)"
   ]
  },
  {
   "cell_type": "markdown",
   "metadata": {},
   "source": [
    "2. 修改C3N4的金属掺杂"
   ]
  },
  {
   "cell_type": "code",
   "execution_count": 17,
   "metadata": {},
   "outputs": [
    {
     "name": "stdout",
     "output_type": "stream",
     "text": [
      "Atoms(symbols='C24N32Cu', pbc=True, cell=[14.206064332150252, 12.301944318681915, 15.0])\n"
     ]
    },
    {
     "ename": "FileNotFoundError",
     "evalue": "[Errno 2] No such file or directory: '/public/home/sl/work/DFT_work/SL/g-C3N4/notebook/github/Computational-Chemistry/project/M@g-C3N4/slab//M2/Au/POSCAR'",
     "output_type": "error",
     "traceback": [
      "\u001b[0;31m---------------------------------------------------------------------------\u001b[0m",
      "\u001b[0;31mFileNotFoundError\u001b[0m                         Traceback (most recent call last)",
      "Cell \u001b[0;32mIn[17], line 23\u001b[0m\n\u001b[1;32m     21\u001b[0m         view(slab)\n\u001b[1;32m     22\u001b[0m         os\u001b[39m.\u001b[39mmakedirs(\u001b[39mf\u001b[39m\u001b[39m\"\u001b[39m\u001b[39m{\u001b[39;00mroot_dir\u001b[39m}\u001b[39;00m\u001b[39m/\u001b[39m\u001b[39m{\u001b[39;00mi\u001b[39m}\u001b[39;00m\u001b[39m\"\u001b[39m, exist_ok\u001b[39m=\u001b[39m\u001b[39mTrue\u001b[39;00m)\n\u001b[0;32m---> 23\u001b[0m         write(\u001b[39mf\u001b[39;49m\u001b[39m'\u001b[39;49m\u001b[39m{\u001b[39;49;00mroot_dir\u001b[39m}\u001b[39;49;00m\u001b[39m/M2/\u001b[39;49m\u001b[39m{\u001b[39;49;00mi\u001b[39m}\u001b[39;49;00m\u001b[39m/POSCAR\u001b[39;49m\u001b[39m'\u001b[39;49m,slab)\n\u001b[1;32m     25\u001b[0m \u001b[39mfor\u001b[39;00m i \u001b[39min\u001b[39;00m elements:\n\u001b[1;32m     26\u001b[0m     \u001b[39mfor\u001b[39;00m j \u001b[39min\u001b[39;00m index_Cu3:\n",
      "File \u001b[0;32m~/software/ase-3.23.0b1/ase/io/formats.py:693\u001b[0m, in \u001b[0;36mwrite\u001b[0;34m(filename, images, format, parallel, append, **kwargs)\u001b[0m\n\u001b[1;32m    689\u001b[0m \u001b[39mformat\u001b[39m \u001b[39m=\u001b[39m \u001b[39mformat\u001b[39m \u001b[39mor\u001b[39;00m \u001b[39m'\u001b[39m\u001b[39mjson\u001b[39m\u001b[39m'\u001b[39m  \u001b[39m# default is json\u001b[39;00m\n\u001b[1;32m    691\u001b[0m io \u001b[39m=\u001b[39m get_ioformat(\u001b[39mformat\u001b[39m)\n\u001b[0;32m--> 693\u001b[0m \u001b[39mreturn\u001b[39;00m _write(filename, fd, \u001b[39mformat\u001b[39;49m, io, images,\n\u001b[1;32m    694\u001b[0m               parallel\u001b[39m=\u001b[39;49mparallel, append\u001b[39m=\u001b[39;49mappend, \u001b[39m*\u001b[39;49m\u001b[39m*\u001b[39;49mkwargs)\n",
      "File \u001b[0;32m~/software/ase-3.23.0b1/ase/parallel.py:271\u001b[0m, in \u001b[0;36mparallel_function.<locals>.new_func\u001b[0;34m(*args, **kwargs)\u001b[0m\n\u001b[1;32m    265\u001b[0m \u001b[39m@functools\u001b[39m\u001b[39m.\u001b[39mwraps(func)\n\u001b[1;32m    266\u001b[0m \u001b[39mdef\u001b[39;00m \u001b[39mnew_func\u001b[39m(\u001b[39m*\u001b[39margs, \u001b[39m*\u001b[39m\u001b[39m*\u001b[39mkwargs):\n\u001b[1;32m    267\u001b[0m     \u001b[39mif\u001b[39;00m (world\u001b[39m.\u001b[39msize \u001b[39m==\u001b[39m \u001b[39m1\u001b[39m \u001b[39mor\u001b[39;00m\n\u001b[1;32m    268\u001b[0m         args \u001b[39mand\u001b[39;00m \u001b[39mgetattr\u001b[39m(args[\u001b[39m0\u001b[39m], \u001b[39m'\u001b[39m\u001b[39mserial\u001b[39m\u001b[39m'\u001b[39m, \u001b[39mFalse\u001b[39;00m) \u001b[39mor\u001b[39;00m\n\u001b[1;32m    269\u001b[0m             \u001b[39mnot\u001b[39;00m kwargs\u001b[39m.\u001b[39mpop(\u001b[39m'\u001b[39m\u001b[39mparallel\u001b[39m\u001b[39m'\u001b[39m, \u001b[39mTrue\u001b[39;00m)):\n\u001b[1;32m    270\u001b[0m         \u001b[39m# Disable:\u001b[39;00m\n\u001b[0;32m--> 271\u001b[0m         \u001b[39mreturn\u001b[39;00m func(\u001b[39m*\u001b[39;49margs, \u001b[39m*\u001b[39;49m\u001b[39m*\u001b[39;49mkwargs)\n\u001b[1;32m    273\u001b[0m     ex \u001b[39m=\u001b[39m \u001b[39mNone\u001b[39;00m\n\u001b[1;32m    274\u001b[0m     result \u001b[39m=\u001b[39m \u001b[39mNone\u001b[39;00m\n",
      "File \u001b[0;32m~/software/ase-3.23.0b1/ase/io/formats.py:726\u001b[0m, in \u001b[0;36m_write\u001b[0;34m(filename, fd, format, io, images, parallel, append, **kwargs)\u001b[0m\n\u001b[1;32m    724\u001b[0m     \u001b[39mif\u001b[39;00m append:\n\u001b[1;32m    725\u001b[0m         mode \u001b[39m=\u001b[39m mode\u001b[39m.\u001b[39mreplace(\u001b[39m'\u001b[39m\u001b[39mw\u001b[39m\u001b[39m'\u001b[39m, \u001b[39m'\u001b[39m\u001b[39ma\u001b[39m\u001b[39m'\u001b[39m)\n\u001b[0;32m--> 726\u001b[0m     fd \u001b[39m=\u001b[39m open_with_compression(filename, mode)\n\u001b[1;32m    727\u001b[0m     \u001b[39m# XXX remember to re-enable compressed open\u001b[39;00m\n\u001b[1;32m    728\u001b[0m     \u001b[39m# fd = io.open(filename, mode)\u001b[39;00m\n\u001b[1;32m    729\u001b[0m \u001b[39mreturn\u001b[39;00m io\u001b[39m.\u001b[39mwrite(fd, images, \u001b[39m*\u001b[39m\u001b[39m*\u001b[39mkwargs)\n",
      "File \u001b[0;32m~/software/ase-3.23.0b1/ase/io/formats.py:598\u001b[0m, in \u001b[0;36mopen_with_compression\u001b[0;34m(filename, mode)\u001b[0m\n\u001b[1;32m    595\u001b[0m     \u001b[39mreturn\u001b[39;00m lzma\u001b[39m.\u001b[39mopen(filename, mode)\n\u001b[1;32m    596\u001b[0m \u001b[39melse\u001b[39;00m:\n\u001b[1;32m    597\u001b[0m     \u001b[39m# Either None or unknown string\u001b[39;00m\n\u001b[0;32m--> 598\u001b[0m     \u001b[39mreturn\u001b[39;00m \u001b[39mopen\u001b[39;49m(filename, mode)\n",
      "\u001b[0;31mFileNotFoundError\u001b[0m: [Errno 2] No such file or directory: '/public/home/sl/work/DFT_work/SL/g-C3N4/notebook/github/Computational-Chemistry/project/M@g-C3N4/slab//M2/Au/POSCAR'"
     ]
    }
   ],
   "source": [
    "import os\n",
    "'''\n",
    "创建单原子列表；遍历列表，修改对应序号元素。\n",
    "'''\n",
    "print(slab)\n",
    "elements = ['Au','Ag','Cu','Pd','Pt','Ni']\n",
    "index_Cu = 56\n",
    "index_Cu2 = [56,57]\n",
    "index_Cu3 = [56,57,58]\n",
    "root_dir = '/public/home/sl/work/DFT_work/SL/M@C3N4/notebook/github/Computational-Chemistry/project/M@g-C3N4/slab/'\n",
    "\n",
    "for i in elements:\n",
    "    slab[index_Cu].symbol = i\n",
    "    view(slab)\n",
    "    os.makedirs(f\"{root_dir}/{i}\", exist_ok=True)\n",
    "    write(f'{root_dir}/M1/{i}/POSCAR',slab)\n",
    "\n",
    "for i in elements:\n",
    "    for j in index_Cu2:\n",
    "        slab[j].symbol = i\n",
    "        view(slab)\n",
    "        os.makedirs(f\"{root_dir}/{i}\", exist_ok=True)\n",
    "        write(f'{root_dir}/M2/{i}/POSCAR',slab)\n",
    "\n",
    "for i in elements:\n",
    "    for j in index_Cu3:\n",
    "        slab[j].symbol = i\n",
    "        view(slab)\n",
    "        os.makedirs(f\"{root_dir}/{i}\", exist_ok=True)\n",
    "        write(f'{root_dir}/M3/{i}/POSCAR',slab)"
   ]
  },
  {
   "cell_type": "code",
   "execution_count": 15,
   "metadata": {},
   "outputs": [
    {
     "data": {
      "text/plain": [
       "<Popen: returncode: None args: ['/public/home/sl/.conda/envs/deepmd/bin/pyth...>"
      ]
     },
     "execution_count": 15,
     "metadata": {},
     "output_type": "execute_result"
    }
   ],
   "source": []
  },
  {
   "cell_type": "code",
   "execution_count": null,
   "metadata": {},
   "outputs": [],
   "source": []
  }
 ],
 "metadata": {
  "kernelspec": {
   "display_name": "Python 3",
   "language": "python",
   "name": "python3"
  },
  "language_info": {
   "codemirror_mode": {
    "name": "ipython",
    "version": 3
   },
   "file_extension": ".py",
   "mimetype": "text/x-python",
   "name": "python",
   "nbconvert_exporter": "python",
   "pygments_lexer": "ipython3",
   "version": "3.10.13"
  },
  "orig_nbformat": 4
 },
 "nbformat": 4,
 "nbformat_minor": 2
}
