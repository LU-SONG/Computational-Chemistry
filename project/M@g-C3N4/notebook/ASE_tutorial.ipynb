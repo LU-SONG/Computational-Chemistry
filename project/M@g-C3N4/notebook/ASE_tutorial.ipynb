{
 "cells": [
  {
   "cell_type": "markdown",
   "metadata": {},
   "source": [
    "---\n",
    "title: ASE教程\n",
    "authors: 庄永斌\n",
    "\n",
    "---"
   ]
  },
  {
   "cell_type": "markdown",
   "metadata": {},
   "source": [
    "# ASE 教程"
   ]
  },
  {
   "cell_type": "markdown",
   "metadata": {},
   "source": [
    "官网: https://wiki.fysik.dtu.dk/ase/index.html"
   ]
  },
  {
   "cell_type": "markdown",
   "metadata": {},
   "source": [
    "ASE是建模和软件使用的python包，一旦使用ASE将我们平时的常规建模脚本化之后可以极大提升工作效率。"
   ]
  },
  {
   "cell_type": "markdown",
   "metadata": {},
   "source": [
    "### 了解和查找重要的模块\n",
    "在官网上左侧的菜单中找到`Modules`\n",
    "\n",
    "<img src=\"figures/ase-fig01.png\" width=200px>\n",
    "\n",
    "显示页面中的上侧有常用的模块\n",
    "\n",
    "<img src=\"figures/ase-fig02.png\" width=400px>"
   ]
  },
  {
   "cell_type": "code",
   "execution_count": 1,
   "metadata": {},
   "outputs": [],
   "source": [
    "import numpy as np"
   ]
  },
  {
   "cell_type": "markdown",
   "metadata": {},
   "source": [
    "## 基础"
   ]
  },
  {
   "cell_type": "markdown",
   "metadata": {},
   "source": [
    "### 文件导入\n",
    "使用ASE的前提是构建或者导入分子结构。\n",
    "\n",
    "ASE 支持多种文件格式的读取，常用的有`xyz`，`lammps-data`， `cif`。"
   ]
  },
  {
   "cell_type": "code",
   "execution_count": 2,
   "metadata": {},
   "outputs": [],
   "source": [
    "#import read function\n",
    "from ase.io import read, write"
   ]
  },
  {
   "cell_type": "code",
   "execution_count": 3,
   "metadata": {},
   "outputs": [
    {
     "data": {
      "text/plain": [
       "\u001b[0;31mSignature:\u001b[0m \u001b[0mread\u001b[0m\u001b[0;34m(\u001b[0m\u001b[0mfilename\u001b[0m\u001b[0;34m,\u001b[0m \u001b[0mindex\u001b[0m\u001b[0;34m=\u001b[0m\u001b[0;32mNone\u001b[0m\u001b[0;34m,\u001b[0m \u001b[0mformat\u001b[0m\u001b[0;34m=\u001b[0m\u001b[0;32mNone\u001b[0m\u001b[0;34m,\u001b[0m \u001b[0mparallel\u001b[0m\u001b[0;34m=\u001b[0m\u001b[0;32mTrue\u001b[0m\u001b[0;34m,\u001b[0m \u001b[0;34m**\u001b[0m\u001b[0mkwargs\u001b[0m\u001b[0;34m)\u001b[0m\u001b[0;34m\u001b[0m\u001b[0m\n",
       "\u001b[0;31mSource:\u001b[0m   \n",
       "\u001b[0;32mdef\u001b[0m \u001b[0mread\u001b[0m\u001b[0;34m(\u001b[0m\u001b[0mfilename\u001b[0m\u001b[0;34m,\u001b[0m \u001b[0mindex\u001b[0m\u001b[0;34m=\u001b[0m\u001b[0;32mNone\u001b[0m\u001b[0;34m,\u001b[0m \u001b[0mformat\u001b[0m\u001b[0;34m=\u001b[0m\u001b[0;32mNone\u001b[0m\u001b[0;34m,\u001b[0m \u001b[0mparallel\u001b[0m\u001b[0;34m=\u001b[0m\u001b[0;32mTrue\u001b[0m\u001b[0;34m,\u001b[0m \u001b[0;34m**\u001b[0m\u001b[0mkwargs\u001b[0m\u001b[0;34m)\u001b[0m\u001b[0;34m:\u001b[0m\u001b[0;34m\u001b[0m\n",
       "\u001b[0;34m\u001b[0m    \u001b[0;34m\"\"\"Read Atoms object(s) from file.\u001b[0m\n",
       "\u001b[0;34m\u001b[0m\n",
       "\u001b[0;34m    filename: str or file\u001b[0m\n",
       "\u001b[0;34m        Name of the file to read from or a file descriptor.\u001b[0m\n",
       "\u001b[0;34m    index: int, slice or str\u001b[0m\n",
       "\u001b[0;34m        The last configuration will be returned by default.  Examples:\u001b[0m\n",
       "\u001b[0;34m\u001b[0m\n",
       "\u001b[0;34m            * ``index=0``: first configuration\u001b[0m\n",
       "\u001b[0;34m            * ``index=-2``: second to last\u001b[0m\n",
       "\u001b[0;34m            * ``index=':'`` or ``index=slice(None)``: all\u001b[0m\n",
       "\u001b[0;34m            * ``index='-3:`` or ``index=slice(-3, None)``: three last\u001b[0m\n",
       "\u001b[0;34m            * ``index='::2`` or ``index=slice(0, None, 2)``: even\u001b[0m\n",
       "\u001b[0;34m            * ``index='1::2`` or ``index=slice(1, None, 2)``: odd\u001b[0m\n",
       "\u001b[0;34m    format: str\u001b[0m\n",
       "\u001b[0;34m        Used to specify the file-format.  If not given, the\u001b[0m\n",
       "\u001b[0;34m        file-format will be guessed by the *filetype* function.\u001b[0m\n",
       "\u001b[0;34m    parallel: bool\u001b[0m\n",
       "\u001b[0;34m        Default is to read on master and broadcast to slaves.  Use\u001b[0m\n",
       "\u001b[0;34m        parallel=False to read on all slaves.\u001b[0m\n",
       "\u001b[0;34m\u001b[0m\n",
       "\u001b[0;34m    Many formats allow on open file-like object to be passed instead\u001b[0m\n",
       "\u001b[0;34m    of ``filename``. In this case the format cannot be auto-decected,\u001b[0m\n",
       "\u001b[0;34m    so the ``format`` argument should be explicitly given.\"\"\"\u001b[0m\u001b[0;34m\u001b[0m\n",
       "\u001b[0;34m\u001b[0m\u001b[0;34m\u001b[0m\n",
       "\u001b[0;34m\u001b[0m    \u001b[0;32mif\u001b[0m \u001b[0misinstance\u001b[0m\u001b[0;34m(\u001b[0m\u001b[0mfilename\u001b[0m\u001b[0;34m,\u001b[0m \u001b[0mPurePath\u001b[0m\u001b[0;34m)\u001b[0m\u001b[0;34m:\u001b[0m\u001b[0;34m\u001b[0m\n",
       "\u001b[0;34m\u001b[0m        \u001b[0mfilename\u001b[0m \u001b[0;34m=\u001b[0m \u001b[0mstr\u001b[0m\u001b[0;34m(\u001b[0m\u001b[0mfilename\u001b[0m\u001b[0;34m)\u001b[0m\u001b[0;34m\u001b[0m\n",
       "\u001b[0;34m\u001b[0m    \u001b[0;32mif\u001b[0m \u001b[0misinstance\u001b[0m\u001b[0;34m(\u001b[0m\u001b[0mindex\u001b[0m\u001b[0;34m,\u001b[0m \u001b[0mbasestring\u001b[0m\u001b[0;34m)\u001b[0m\u001b[0;34m:\u001b[0m\u001b[0;34m\u001b[0m\n",
       "\u001b[0;34m\u001b[0m        \u001b[0mindex\u001b[0m \u001b[0;34m=\u001b[0m \u001b[0mstring2index\u001b[0m\u001b[0;34m(\u001b[0m\u001b[0mindex\u001b[0m\u001b[0;34m)\u001b[0m\u001b[0;34m\u001b[0m\n",
       "\u001b[0;34m\u001b[0m    \u001b[0mfilename\u001b[0m\u001b[0;34m,\u001b[0m \u001b[0mindex\u001b[0m \u001b[0;34m=\u001b[0m \u001b[0mparse_filename\u001b[0m\u001b[0;34m(\u001b[0m\u001b[0mfilename\u001b[0m\u001b[0;34m,\u001b[0m \u001b[0mindex\u001b[0m\u001b[0;34m)\u001b[0m\u001b[0;34m\u001b[0m\n",
       "\u001b[0;34m\u001b[0m    \u001b[0;32mif\u001b[0m \u001b[0mindex\u001b[0m \u001b[0;32mis\u001b[0m \u001b[0;32mNone\u001b[0m\u001b[0;34m:\u001b[0m\u001b[0;34m\u001b[0m\n",
       "\u001b[0;34m\u001b[0m        \u001b[0mindex\u001b[0m \u001b[0;34m=\u001b[0m \u001b[0;34m-\u001b[0m\u001b[0;36m1\u001b[0m\u001b[0;34m\u001b[0m\n",
       "\u001b[0;34m\u001b[0m    \u001b[0mformat\u001b[0m \u001b[0;34m=\u001b[0m \u001b[0mformat\u001b[0m \u001b[0;32mor\u001b[0m \u001b[0mfiletype\u001b[0m\u001b[0;34m(\u001b[0m\u001b[0mfilename\u001b[0m\u001b[0;34m)\u001b[0m\u001b[0;34m\u001b[0m\n",
       "\u001b[0;34m\u001b[0m    \u001b[0mio\u001b[0m \u001b[0;34m=\u001b[0m \u001b[0mget_ioformat\u001b[0m\u001b[0;34m(\u001b[0m\u001b[0mformat\u001b[0m\u001b[0;34m)\u001b[0m\u001b[0;34m\u001b[0m\n",
       "\u001b[0;34m\u001b[0m    \u001b[0;32mif\u001b[0m \u001b[0misinstance\u001b[0m\u001b[0;34m(\u001b[0m\u001b[0mindex\u001b[0m\u001b[0;34m,\u001b[0m \u001b[0;34m(\u001b[0m\u001b[0mslice\u001b[0m\u001b[0;34m,\u001b[0m \u001b[0mbasestring\u001b[0m\u001b[0;34m)\u001b[0m\u001b[0;34m)\u001b[0m\u001b[0;34m:\u001b[0m\u001b[0;34m\u001b[0m\n",
       "\u001b[0;34m\u001b[0m        \u001b[0;32mreturn\u001b[0m \u001b[0mlist\u001b[0m\u001b[0;34m(\u001b[0m\u001b[0m_iread\u001b[0m\u001b[0;34m(\u001b[0m\u001b[0mfilename\u001b[0m\u001b[0;34m,\u001b[0m \u001b[0mindex\u001b[0m\u001b[0;34m,\u001b[0m \u001b[0mformat\u001b[0m\u001b[0;34m,\u001b[0m \u001b[0mio\u001b[0m\u001b[0;34m,\u001b[0m \u001b[0mparallel\u001b[0m\u001b[0;34m=\u001b[0m\u001b[0mparallel\u001b[0m\u001b[0;34m,\u001b[0m\u001b[0;34m\u001b[0m\n",
       "\u001b[0;34m\u001b[0m                           \u001b[0;34m**\u001b[0m\u001b[0mkwargs\u001b[0m\u001b[0;34m)\u001b[0m\u001b[0;34m)\u001b[0m\u001b[0;34m\u001b[0m\n",
       "\u001b[0;34m\u001b[0m    \u001b[0;32melse\u001b[0m\u001b[0;34m:\u001b[0m\u001b[0;34m\u001b[0m\n",
       "\u001b[0;34m\u001b[0m        \u001b[0;32mreturn\u001b[0m \u001b[0mnext\u001b[0m\u001b[0;34m(\u001b[0m\u001b[0m_iread\u001b[0m\u001b[0;34m(\u001b[0m\u001b[0mfilename\u001b[0m\u001b[0;34m,\u001b[0m \u001b[0mslice\u001b[0m\u001b[0;34m(\u001b[0m\u001b[0mindex\u001b[0m\u001b[0;34m,\u001b[0m \u001b[0;32mNone\u001b[0m\u001b[0;34m)\u001b[0m\u001b[0;34m,\u001b[0m \u001b[0mformat\u001b[0m\u001b[0;34m,\u001b[0m \u001b[0mio\u001b[0m\u001b[0;34m,\u001b[0m\u001b[0;34m\u001b[0m\n",
       "\u001b[0;34m\u001b[0m                           \u001b[0mparallel\u001b[0m\u001b[0;34m=\u001b[0m\u001b[0mparallel\u001b[0m\u001b[0;34m,\u001b[0m \u001b[0;34m**\u001b[0m\u001b[0mkwargs\u001b[0m\u001b[0;34m)\u001b[0m\u001b[0;34m)\u001b[0m\u001b[0;34m\u001b[0m\u001b[0m\n",
       "\u001b[0;31mFile:\u001b[0m      ~/anaconda3/lib/python3.6/site-packages/ase/io/formats.py\n",
       "\u001b[0;31mType:\u001b[0m      function\n"
      ]
     },
     "metadata": {},
     "output_type": "display_data"
    }
   ],
   "source": [
    "## use ?? in notebook can view the python function directly\n",
    "read??"
   ]
  },
  {
   "cell_type": "markdown",
   "metadata": {},
   "source": [
    "使用`read`函数进行文件的读取。\n",
    "读入时如不指定格式，函数会从文件扩展名来推测的文件格式。"
   ]
  },
  {
   "cell_type": "code",
   "execution_count": 4,
   "metadata": {},
   "outputs": [],
   "source": [
    "filepath = './bulk_ICSD/SnO2.cif'\n",
    "lattice=read(filepath)"
   ]
  },
  {
   "cell_type": "markdown",
   "metadata": {},
   "source": [
    "这样我们就完成了ASE结构的读入，之后只需要操作对应的对象就可以了。"
   ]
  },
  {
   "cell_type": "markdown",
   "metadata": {},
   "source": [
    "#### Atom 和 Atoms Object\n",
    "Atom和Atoms是ASE的两个基本Object， Atoms由Atom构成。"
   ]
  },
  {
   "cell_type": "code",
   "execution_count": 5,
   "metadata": {},
   "outputs": [
    {
     "name": "stdout",
     "output_type": "stream",
     "text": [
      "Atoms(symbols='Sn2O4', pbc=True, cell=[4.738, 4.738, 3.1865])\n"
     ]
    }
   ],
   "source": [
    "#check object type \n",
    "print(lattice)"
   ]
  },
  {
   "cell_type": "markdown",
   "metadata": {},
   "source": [
    "本质上Atoms是Atom的list，可以使用标序的方式来查看Atom"
   ]
  },
  {
   "cell_type": "code",
   "execution_count": 6,
   "metadata": {},
   "outputs": [
    {
     "name": "stdout",
     "output_type": "stream",
     "text": [
      "Atom('Sn', [2.369, 2.369, 1.59325], index=0)\n",
      "Atom('Sn', [0.0, 0.0, 0.0], index=1)\n",
      "Atom('O', [0.9139602000000001, 3.8240398, 1.59325], index=2)\n",
      "Atom('O', [3.8240398, 0.9139602000000001, 1.59325], index=3)\n",
      "Atom('O', [1.4550398, 1.4550398, 0.0], index=4)\n",
      "Atom('O', [3.2829602000000007, 3.2829602000000007, 0.0], index=5)\n"
     ]
    }
   ],
   "source": [
    "#check the atom in atoms obejct, index\n",
    "print(lattice[0])\n",
    "print(lattice[1])\n",
    "print(lattice[2])\n",
    "print(lattice[3])\n",
    "print(lattice[4])\n",
    "print(lattice[5])"
   ]
  },
  {
   "cell_type": "markdown",
   "metadata": {},
   "source": [
    "可以使用一些的method对Atom和Atoms Object的信息进行提取。可用的[Atoms Method一览](https://wiki.fysik.dtu.dk/ase/ase/atoms.html?highlight=atoms)，可用的[Atom Method一览](https://wiki.fysik.dtu.dk/ase/ase/atom.html?highlight=atom#module-ase.atom)。"
   ]
  },
  {
   "cell_type": "markdown",
   "metadata": {},
   "source": [
    "#### 练习\n",
    "    1.从Atoms Object中获得SnO_2晶胞边长和角度。\n",
    "    2.获取SnO_2所有氧原子的z坐标，并放入一个list里。"
   ]
  },
  {
   "cell_type": "markdown",
   "metadata": {},
   "source": [
    "### 可视化"
   ]
  },
  {
   "cell_type": "markdown",
   "metadata": {},
   "source": [
    "ASE可以直接在Jupyter Notebook里进行可视化"
   ]
  },
  {
   "cell_type": "code",
   "execution_count": 7,
   "metadata": {},
   "outputs": [],
   "source": [
    "from ase.visualize import view"
   ]
  },
  {
   "cell_type": "code",
   "execution_count": null,
   "metadata": {},
   "outputs": [],
   "source": [
    "view??"
   ]
  },
  {
   "cell_type": "code",
   "execution_count": 8,
   "metadata": {},
   "outputs": [
    {
     "data": {
      "application/vnd.jupyter.widget-view+json": {
       "model_id": "eed7bb34db8f4a128edc043cd1c7e3f3",
       "version_major": 2,
       "version_minor": 0
      },
      "text/html": [
       "<p>Failed to display Jupyter Widget of type <code>HBox</code>.</p>\n",
       "<p>\n",
       "  If you're reading this message in the Jupyter Notebook or JupyterLab Notebook, it may mean\n",
       "  that the widgets JavaScript is still loading. If this message persists, it\n",
       "  likely means that the widgets JavaScript library is either not installed or\n",
       "  not enabled. See the <a href=\"https://ipywidgets.readthedocs.io/en/stable/user_install.html\">Jupyter\n",
       "  Widgets Documentation</a> for setup instructions.\n",
       "</p>\n",
       "<p>\n",
       "  If you're reading this message in another frontend (for example, a static\n",
       "  rendering on GitHub or <a href=\"https://nbviewer.jupyter.org/\">NBViewer</a>),\n",
       "  it may mean that your frontend doesn't currently support widgets.\n",
       "</p>\n"
      ],
      "text/plain": [
       "HBox(children=(NGLWidget(), VBox(children=(Dropdown(description='Show', options=('All', 'Sn', 'O'), value='All'), Dropdown(description='Color scheme', options=(' ', 'picking', 'random', 'uniform', 'atomindex', 'residueindex', 'chainindex', 'modelindex', 'sstruc', 'element', 'resname', 'bfactor', 'hydrophobicity', 'value', 'volume', 'occupancy'), value=' '), FloatSlider(value=0.8, description='Ball size', max=1.5, step=0.01)))))"
      ]
     },
     "metadata": {},
     "output_type": "display_data"
    }
   ],
   "source": [
    "#select viewer as ngl\n",
    "view(lattice, viewer=\"ngl\")"
   ]
  },
  {
   "cell_type": "markdown",
   "metadata": {},
   "source": [
    "### 原子的增减"
   ]
  },
  {
   "cell_type": "markdown",
   "metadata": {},
   "source": [
    "#### 复制体系"
   ]
  },
  {
   "cell_type": "markdown",
   "metadata": {},
   "source": [
    "Atoms Object `A`可以直接赋值到新的变量上`B`，但是改变`B`同时也会改变`A`，`B`相当于只是`A`的别名。为了重新复制一个新的Atoms Object，必须采用`copy()`函数"
   ]
  },
  {
   "cell_type": "code",
   "execution_count": 15,
   "metadata": {},
   "outputs": [],
   "source": [
    "lattice_2 = lattice.copy()"
   ]
  },
  {
   "cell_type": "code",
   "execution_count": 14,
   "metadata": {},
   "outputs": [],
   "source": [
    "filepath = './bulk_ICSD/SnO2.cif'\n",
    "lattice=read(filepath)"
   ]
  },
  {
   "cell_type": "markdown",
   "metadata": {},
   "source": [
    "#### 删除原子"
   ]
  },
  {
   "cell_type": "code",
   "execution_count": 33,
   "metadata": {},
   "outputs": [
    {
     "name": "stdout",
     "output_type": "stream",
     "text": [
      "Atoms(symbols='Sn2O4', pbc=True, cell=[4.738, 4.738, 3.1865])\n"
     ]
    }
   ],
   "source": [
    "print(lattice_2)"
   ]
  },
  {
   "cell_type": "markdown",
   "metadata": {},
   "source": [
    "使用序号进行删除，以下是删除了序号为0的原子"
   ]
  },
  {
   "cell_type": "code",
   "execution_count": 16,
   "metadata": {},
   "outputs": [],
   "source": [
    "del lattice_2[0]"
   ]
  },
  {
   "cell_type": "code",
   "execution_count": 17,
   "metadata": {},
   "outputs": [
    {
     "name": "stdout",
     "output_type": "stream",
     "text": [
      "Atoms(symbols='SnO4', pbc=True, cell=[4.738, 4.738, 3.1865])\n"
     ]
    }
   ],
   "source": [
    "print(lattice_2)"
   ]
  },
  {
   "cell_type": "code",
   "execution_count": 18,
   "metadata": {},
   "outputs": [],
   "source": [
    "view(lattice_2)"
   ]
  },
  {
   "cell_type": "markdown",
   "metadata": {},
   "source": [
    "#### 增加原子"
   ]
  },
  {
   "cell_type": "markdown",
   "metadata": {},
   "source": [
    "使用`Atom`创建新的原子"
   ]
  },
  {
   "cell_type": "code",
   "execution_count": 19,
   "metadata": {},
   "outputs": [],
   "source": [
    "from ase import Atom"
   ]
  },
  {
   "cell_type": "code",
   "execution_count": 20,
   "metadata": {},
   "outputs": [],
   "source": [
    "oxygen = Atom('O')"
   ]
  },
  {
   "cell_type": "code",
   "execution_count": 22,
   "metadata": {},
   "outputs": [],
   "source": [
    "lattice_2.extend(oxygen)"
   ]
  },
  {
   "cell_type": "code",
   "execution_count": 25,
   "metadata": {},
   "outputs": [
    {
     "name": "stdout",
     "output_type": "stream",
     "text": [
      "Atoms(symbols='SnO5', pbc=True, cell=[4.738, 4.738, 3.1865])\n"
     ]
    }
   ],
   "source": [
    "print(lattice_2)"
   ]
  },
  {
   "cell_type": "markdown",
   "metadata": {},
   "source": [
    "### 寻找相邻原子"
   ]
  },
  {
   "cell_type": "code",
   "execution_count": 27,
   "metadata": {},
   "outputs": [],
   "source": [
    "from ase.neighborlist import neighbor_list"
   ]
  },
  {
   "cell_type": "markdown",
   "metadata": {},
   "source": [
    "用法`neighbor_list(quantity, Atoms, cutoff)`。\n",
    "cutoff可以选择原子对和半径，quantity可以有多种选择一选中心原子`i`,周围原子`j`。\n",
    "选`i`时返回的数组跟选`j`时返回的是一一对应的。\n",
    "例如如下第一个是中心原子0，他的周围原子是4。以此类推。\n",
    "通过numpy的bincount可以求出配位数"
   ]
  },
  {
   "cell_type": "code",
   "execution_count": 28,
   "metadata": {},
   "outputs": [
    {
     "data": {
      "text/plain": [
       "array([0, 0, 0, 0, 0, 0, 1, 1, 1, 1, 1, 1, 2, 2, 2, 3, 3, 3, 4, 4, 4, 5,\n",
       "       5, 5])"
      ]
     },
     "execution_count": 28,
     "metadata": {},
     "output_type": "execute_result"
    }
   ],
   "source": [
    "neighbor_list('i', lattice, {('Sn', 'O'): 2.2})"
   ]
  },
  {
   "cell_type": "code",
   "execution_count": 29,
   "metadata": {},
   "outputs": [
    {
     "data": {
      "text/plain": [
       "array([4, 5, 5, 2, 3, 4, 4, 5, 3, 2, 2, 3, 0, 1, 1, 1, 0, 1, 0, 1, 0, 0,\n",
       "       1, 0])"
      ]
     },
     "execution_count": 29,
     "metadata": {},
     "output_type": "execute_result"
    }
   ],
   "source": [
    "neighbor_list('j', lattice, {('Sn', 'O'): 2.2})"
   ]
  },
  {
   "cell_type": "code",
   "execution_count": 30,
   "metadata": {},
   "outputs": [],
   "source": [
    "import numpy as np"
   ]
  },
  {
   "cell_type": "markdown",
   "metadata": {},
   "source": [
    "0,1号原子配位数是6,而2,3,4,5号原子配位数是三"
   ]
  },
  {
   "cell_type": "code",
   "execution_count": 31,
   "metadata": {},
   "outputs": [
    {
     "data": {
      "text/plain": [
       "array([6, 6, 3, 3, 3, 3])"
      ]
     },
     "execution_count": 31,
     "metadata": {},
     "output_type": "execute_result"
    }
   ],
   "source": [
    "np.bincount(neighbor_list('i', lattice, {('Sn', 'O'): 2.2}))"
   ]
  },
  {
   "cell_type": "markdown",
   "metadata": {},
   "source": [
    "### 切面"
   ]
  },
  {
   "cell_type": "code",
   "execution_count": 32,
   "metadata": {},
   "outputs": [],
   "source": [
    "from ase.build import surface\n",
    "TiO2=read('./bulk_ICSD/Rutile.cif')"
   ]
  },
  {
   "cell_type": "markdown",
   "metadata": {},
   "source": [
    "使用`surface`函数进行切面，基本语法是surface(Atoms, Miller_index, layer_number, vacuum)。注意真空添加是slab两头都添加指定的长度。"
   ]
  },
  {
   "cell_type": "code",
   "execution_count": 33,
   "metadata": {},
   "outputs": [],
   "source": [
    "slab = surface(TiO2, (1, 1, 0), 4, vacuum=5)"
   ]
  },
  {
   "cell_type": "code",
   "execution_count": 35,
   "metadata": {},
   "outputs": [
    {
     "data": {
      "text/plain": [
       "array([ 6.49548289,  2.959     , 21.72499617, 90.        , 90.        ,\n",
       "       90.        ])"
      ]
     },
     "execution_count": 35,
     "metadata": {},
     "output_type": "execute_result"
    }
   ],
   "source": [
    "slab.get_cell_lengths_and_angles()"
   ]
  },
  {
   "cell_type": "code",
   "execution_count": 36,
   "metadata": {},
   "outputs": [],
   "source": [
    "slab = slab * (2, 4, 1)"
   ]
  },
  {
   "cell_type": "code",
   "execution_count": 37,
   "metadata": {},
   "outputs": [],
   "source": [
    "view(slab)"
   ]
  },
  {
   "cell_type": "markdown",
   "metadata": {},
   "source": [
    "通过surface函数切出来的slab模型还是有点令人不满足。如果我们想要两面对称的slab就需要进行一些简单的修饰，即原子的增减"
   ]
  },
  {
   "cell_type": "markdown",
   "metadata": {},
   "source": [
    "#### 练习:\n",
    "\n",
    "    1. 我们已经切好了slab模型，请实现一个能够找出该slab模型所有原子配位数的函数。\n",
    "    2. 实现一个函数，该函数能够返回该slab模型中配位数是5的Ti原子的序号。"
   ]
  },
  {
   "cell_type": "markdown",
   "metadata": {},
   "source": [
    "### 调整Slab的层数"
   ]
  },
  {
   "cell_type": "code",
   "execution_count": 38,
   "metadata": {},
   "outputs": [],
   "source": [
    "def del_top_layer(slab, tolerance ):\n",
    "    \"\"\"\n",
    "    function for delete the top layer atoms\n",
    "    \"\"\"\n",
    "    tmp = slab.copy()\n",
    "    z_list = tmp.get_positions().T[2]\n",
    "    z_max = z_list.max()\n",
    "    del_list = [atom.index for atom in tmp if ((atom.position[2] < z_max+tolerance) \n",
    "                                                    and (atom.position[2] > z_max-tolerance))]\n",
    "\n",
    "    del tmp[del_list]\n",
    "    return tmp\n",
    "\n",
    "def del_bottom_layer(slab, tolerance):\n",
    "    \"\"\"\n",
    "    function for delete the top layer atoms\n",
    "    \"\"\"\n",
    "    tmp = slab.copy()\n",
    "    z_list = tmp.get_positions().T[2]\n",
    "    z_min = z_list.min()\n",
    "    del_list = [atom.index for atom in tmp if ((atom.position[2] < z_min+tolerance) \n",
    "                                                    and (atom.position[2] > z_min-tolerance))]\n",
    "\n",
    "    del tmp[del_list]\n",
    "    return tmp"
   ]
  },
  {
   "cell_type": "code",
   "execution_count": 39,
   "metadata": {},
   "outputs": [],
   "source": [
    "slab = del_top_layer(slab, 0.05)"
   ]
  },
  {
   "cell_type": "code",
   "execution_count": 61,
   "metadata": {},
   "outputs": [],
   "source": [
    "slab = del_bottom_layer(slab, 0.05)"
   ]
  },
  {
   "cell_type": "code",
   "execution_count": 40,
   "metadata": {},
   "outputs": [],
   "source": [
    "view(slab)"
   ]
  },
  {
   "cell_type": "markdown",
   "metadata": {},
   "source": [
    "### 添加吸附物"
   ]
  },
  {
   "cell_type": "code",
   "execution_count": 41,
   "metadata": {},
   "outputs": [],
   "source": [
    "from ase.build import molecule"
   ]
  },
  {
   "cell_type": "markdown",
   "metadata": {},
   "source": [
    "创建一个简单的分子比如：羟基OH"
   ]
  },
  {
   "cell_type": "code",
   "execution_count": 56,
   "metadata": {},
   "outputs": [],
   "source": [
    "OH = molecule('OH')"
   ]
  },
  {
   "cell_type": "code",
   "execution_count": 52,
   "metadata": {},
   "outputs": [
    {
     "data": {
      "text/plain": [
       "array([[ 0.      ,  0.      ,  0.108786],\n",
       "       [ 0.      ,  0.      , -0.870284]])"
      ]
     },
     "execution_count": 52,
     "metadata": {},
     "output_type": "execute_result"
    }
   ],
   "source": [
    "OH.get_positions()"
   ]
  },
  {
   "cell_type": "code",
   "execution_count": 55,
   "metadata": {},
   "outputs": [],
   "source": [
    "view(OH)"
   ]
  },
  {
   "cell_type": "markdown",
   "metadata": {},
   "source": [
    "此时创建的OH是O-H朝向z的负方向, 可以通过rotate函数来旋转吸附物。比如如下我们以x轴为中心，默认氧原子为中心点，旋转120度。如果要实现更多复杂的转动可以配合旋转轴`x, y, z`来一步一步微调，或者直接指定旋转的方向。"
   ]
  },
  {
   "cell_type": "markdown",
   "metadata": {},
   "source": [
    "#### 通过旋转轴转动"
   ]
  },
  {
   "cell_type": "code",
   "execution_count": 54,
   "metadata": {},
   "outputs": [],
   "source": [
    "OH.rotate(120, 'x')"
   ]
  },
  {
   "cell_type": "code",
   "execution_count": 69,
   "metadata": {},
   "outputs": [
    {
     "data": {
      "text/plain": [
       "array([[ 0.        , -0.09421144, -0.054393  ],\n",
       "       [ 0.        ,  0.75368805,  0.435142  ]])"
      ]
     },
     "execution_count": 69,
     "metadata": {},
     "output_type": "execute_result"
    }
   ],
   "source": [
    "OH.get_positions()"
   ]
  },
  {
   "cell_type": "markdown",
   "metadata": {},
   "source": [
    "#### 转动到指定向量方向"
   ]
  },
  {
   "cell_type": "code",
   "execution_count": 57,
   "metadata": {},
   "outputs": [],
   "source": [
    "old_vec=OH[1].position - OH[0].position"
   ]
  },
  {
   "cell_type": "code",
   "execution_count": 58,
   "metadata": {},
   "outputs": [],
   "source": [
    "new_vec=np.array([1.5, 1, 1])"
   ]
  },
  {
   "cell_type": "code",
   "execution_count": 59,
   "metadata": {},
   "outputs": [],
   "source": [
    "OH.set_cell([10, 10, 10])"
   ]
  },
  {
   "cell_type": "code",
   "execution_count": 62,
   "metadata": {},
   "outputs": [],
   "source": [
    "view(OH)"
   ]
  },
  {
   "cell_type": "code",
   "execution_count": 61,
   "metadata": {},
   "outputs": [],
   "source": [
    "OH.rotate(old_vec, new_vec)"
   ]
  },
  {
   "cell_type": "markdown",
   "metadata": {},
   "source": [
    "添加吸附物可以通过add_adsorbate函数来实现，但是只能够添加在上表面(+z方向)。"
   ]
  },
  {
   "cell_type": "code",
   "execution_count": 63,
   "metadata": {},
   "outputs": [],
   "source": [
    "from ase.build import add_adsorbate"
   ]
  },
  {
   "cell_type": "code",
   "execution_count": 64,
   "metadata": {},
   "outputs": [],
   "source": [
    "view(slab)"
   ]
  },
  {
   "cell_type": "code",
   "execution_count": 67,
   "metadata": {},
   "outputs": [],
   "source": [
    "position = slab[65].position[:2]"
   ]
  },
  {
   "cell_type": "code",
   "execution_count": 68,
   "metadata": {},
   "outputs": [
    {
     "data": {
      "text/plain": [
       "array([3.24774145, 5.918     ])"
      ]
     },
     "execution_count": 68,
     "metadata": {},
     "output_type": "execute_result"
    }
   ],
   "source": [
    "position"
   ]
  },
  {
   "cell_type": "code",
   "execution_count": 69,
   "metadata": {},
   "outputs": [],
   "source": [
    "add_adsorbate(slab, OH,position=position, height = 2.0)"
   ]
  },
  {
   "cell_type": "code",
   "execution_count": 70,
   "metadata": {},
   "outputs": [],
   "source": [
    "view(slab)"
   ]
  },
  {
   "cell_type": "markdown",
   "metadata": {},
   "source": [
    "### 自己定义吸附物添加"
   ]
  },
  {
   "cell_type": "code",
   "execution_count": 71,
   "metadata": {},
   "outputs": [],
   "source": [
    "def add_top_OH(slab, site, height, site_type=\"ontop\"):\n",
    "    \"\"\"\n",
    "    function to add OH adsorbate on the top surface\n",
    "    add function to add in the bridge site\n",
    "    \"\"\"\n",
    "    from ase.build import molecule\n",
    "    # create OH and rotate to proper position\n",
    "    OH = molecule('OH')\n",
    "    OH.rotate(150, 'y', center = OH[0].position)\n",
    "    if site_type == \"ontop\":\n",
    "        OH.translate(slab[site].position + [0, 0, height] - OH.positions[0])\n",
    "        slab.extend(OH)\n",
    "    elif site_type == \"bridge\":\n",
    "        OH.translate((slab[site[0]].position + slab[site[1]].position)/2 + [0, 0, height] - OH.positions[0])\n",
    "        slab.extend(OH)\n",
    "    else:\n",
    "        print(\"The site type {0} is not implemented yet\".format(site_type))\n",
    "\n",
    "def add_bottom_OH(slab, site, height, site_type=\"ontop\"):\n",
    "    \"\"\"\n",
    "    function to add OH adsorbate on the bottom surface\n",
    "    add function to add in the bridge site\n",
    "    \"\"\"\n",
    "    from ase.build import molecule\n",
    "    # create OH and rotate to proper position\n",
    "    OH = molecule('OH')\n",
    "    OH.rotate(30, 'y', center = OH[0].position)\n",
    "    if site_type == \"ontop\":\n",
    "        OH.translate(slab[site].position + [0, 0, -height] - OH.positions[0])\n",
    "        slab.extend(OH)\n",
    "    elif site_type == \"bridge\":\n",
    "        OH.translate((slab[site[0]].position + slab[site[1]].position)/2 + [0, 0, -height] - OH.positions[0])\n",
    "        slab.extend(OH)\n",
    "    else:\n",
    "        print(\"The site type {0} is not implemented yet\".format(site_type))"
   ]
  },
  {
   "cell_type": "code",
   "execution_count": 74,
   "metadata": {},
   "outputs": [],
   "source": [
    "view(slab)"
   ]
  },
  {
   "cell_type": "code",
   "execution_count": 73,
   "metadata": {},
   "outputs": [],
   "source": [
    "add_top_OH(slab, 134, 1.5)\n",
    "add_bottom_OH(slab, 139, 1.5)"
   ]
  },
  {
   "cell_type": "markdown",
   "metadata": {},
   "source": [
    "## 创建极化子初始结构"
   ]
  },
  {
   "cell_type": "markdown",
   "metadata": {},
   "source": [
    "<img src=\"./figures/polaron.jpg\">"
   ]
  },
  {
   "cell_type": "markdown",
   "metadata": {},
   "source": [
    "极化子即Polaron，是材料中一种特殊的现象。来源于lattice跟electron的相互作用，即phonon - eletron interaction。此时极化子的能级对应的波函数是一个空间局域的波函数。同时该空间周围空间原子结构，也会较理想晶体有所不同。\n",
    "\n",
    "计算中，要找到这样的一个波函数是不容易的。就需要对于结构优化时的初始结构做一些调整。简单的方法就是预估要localize到那个原子，然后对原子周围的配位环境进行相应的扰动。"
   ]
  },
  {
   "cell_type": "code",
   "execution_count": 75,
   "metadata": {},
   "outputs": [],
   "source": [
    "def create_polaron(atom_object, center_atom_number, distance, cutoff): #create polaron\n",
    "    temp_list=neighbor_list('i', atom_object, cutoff)\n",
    "    temp_list_2=neighbor_list('j', atom_object, cutoff)\n",
    "    for i in range(len(temp_list)):\n",
    "        if temp_list[i] == center_atom_number:\n",
    "            neighbor_index = temp_list_2[i]\n",
    "            atom_object.set_distance(center_atom_number, neighbor_index, distance, fix=0,mic=True)"
   ]
  },
  {
   "cell_type": "code",
   "execution_count": 76,
   "metadata": {},
   "outputs": [],
   "source": [
    "surface=read('./tio2_dis/IS.pdb',format='xyz')"
   ]
  },
  {
   "cell_type": "code",
   "execution_count": 77,
   "metadata": {},
   "outputs": [],
   "source": [
    "view(surface)"
   ]
  },
  {
   "cell_type": "code",
   "execution_count": 78,
   "metadata": {},
   "outputs": [
    {
     "data": {
      "text/plain": [
       "2.0527437735869523"
      ]
     },
     "execution_count": 78,
     "metadata": {},
     "output_type": "execute_result"
    }
   ],
   "source": [
    "surface.get_distance(164,139)"
   ]
  },
  {
   "cell_type": "code",
   "execution_count": 79,
   "metadata": {},
   "outputs": [],
   "source": [
    "create_polaron(surface,139,2.2,{('Ti','O'):2.1})"
   ]
  },
  {
   "cell_type": "code",
   "execution_count": 80,
   "metadata": {},
   "outputs": [
    {
     "data": {
      "text/plain": [
       "2.2"
      ]
     },
     "execution_count": 80,
     "metadata": {},
     "output_type": "execute_result"
    }
   ],
   "source": [
    "surface.get_distance(139,164)"
   ]
  },
  {
   "cell_type": "code",
   "execution_count": 81,
   "metadata": {},
   "outputs": [
    {
     "data": {
      "text/plain": [
       "2.1999999999999997"
      ]
     },
     "execution_count": 81,
     "metadata": {},
     "output_type": "execute_result"
    }
   ],
   "source": [
    "surface.get_distance(139,159)"
   ]
  },
  {
   "cell_type": "code",
   "execution_count": null,
   "metadata": {},
   "outputs": [],
   "source": []
  }
 ],
 "metadata": {
  "kernelspec": {
   "display_name": "Python 3",
   "language": "python",
   "name": "python3"
  },
  "language_info": {
   "codemirror_mode": {
    "name": "ipython",
    "version": 3
   },
   "file_extension": ".py",
   "mimetype": "text/x-python",
   "name": "python",
   "nbconvert_exporter": "python",
   "pygments_lexer": "ipython3",
   "version": "3.6.4"
  }
 },
 "nbformat": 4,
 "nbformat_minor": 4
}
